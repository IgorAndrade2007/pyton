{
  "nbformat": 4,
  "nbformat_minor": 0,
  "metadata": {
    "colab": {
      "provenance": [],
      "authorship_tag": "ABX9TyOF4ZuFco0A0uROaNmkgb72",
      "include_colab_link": true
    },
    "kernelspec": {
      "name": "python3",
      "display_name": "Python 3"
    },
    "language_info": {
      "name": "python"
    }
  },
  "cells": [
    {
      "cell_type": "markdown",
      "metadata": {
        "id": "view-in-github",
        "colab_type": "text"
      },
      "source": [
        "<a href=\"https://colab.research.google.com/github/IgorAndrade2007/pyton/blob/main/aula1.ipynb\" target=\"_parent\"><img src=\"https://colab.research.google.com/assets/colab-badge.svg\" alt=\"Open In Colab\"/></a>"
      ]
    },
    {
      "cell_type": "code",
      "source": [
        "aula 2"
      ],
      "metadata": {
        "id": "PQIeHK5Po-Fm"
      },
      "execution_count": null,
      "outputs": []
    },
    {
      "cell_type": "code",
      "source": [
        "aula 2              12/09\n",
        "\n",
        "livro_ficcao = 8\n",
        "livro_n_ficcao = 10\n",
        "livro_infantil = 6\n",
        "pontos_rodrigo = livro_ficcao + livro_n_ficcao + livro_infantil\n",
        "print(f\"Os pontos totais do Rodrigo são {pontos_rodrigo}\")\n",
        "pontos_ana=2*livro_ficcao+5*livro_infantil\n",
        "print(f\"Os pontos totais do ana são {pontos_ana}\")\n",
        "pontos_totais=pontos_ana+pontos_rodrigo\n",
        "print(f\"Os pontos totais do ana e rodrigo são {pontos_totais}\")\n",
        "\n",
        "pontos_carlos= 1*livro_ficcao+3*livro_n_ficcao+3*livro_infantil\n",
        "print(f\"Os pontos totais do carlos são {pontos_carlos}\")\n",
        "\n",
        "pontos_totais=pontos_ana+pontos_rodrigo+pontos_carlos\n",
        "print(f\"Os pontos totais do ana,carlos e rodrigo são {pontos_totais}\")\n",
        "\n",
        "aula 3 19/09"
      ],
      "metadata": {
        "id": "yLtOyf8LpA-y"
      },
      "execution_count": null,
      "outputs": []
    },
    {
      "cell_type": "code",
      "source": [
        "aula 3"
      ],
      "metadata": {
        "id": "DJZc54OgpC1X"
      },
      "execution_count": null,
      "outputs": []
    },
    {
      "cell_type": "code",
      "source": [],
      "metadata": {
        "id": "lEJuaad7pEzx"
      },
      "execution_count": null,
      "outputs": []
    },
    {
      "cell_type": "code",
      "execution_count": null,
      "metadata": {
        "id": "PISMQYaSo2Cu"
      },
      "outputs": [],
      "source": []
    }
  ]
}